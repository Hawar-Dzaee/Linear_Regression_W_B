{
 "cells": [
  {
   "cell_type": "code",
   "execution_count": 2,
   "metadata": {},
   "outputs": [],
   "source": [
    "import torch \n",
    "import numpy as np "
   ]
  },
  {
   "cell_type": "code",
   "execution_count": 3,
   "metadata": {},
   "outputs": [],
   "source": [
    "torch.manual_seed(42)\n",
    "\n",
    "lower_bound = -10.\n",
    "upper_bound =  10.\n",
    "sample_size = 22\n",
    "feature_1 = torch.linspace(lower_bound,upper_bound,sample_size)\n",
    "ground_truth = feature_1 + 2 \n",
    "\n",
    "weight_combo = torch.linspace(-6,6,150)\n",
    "bias_combo = torch.linspace(-6,6,150)\n",
    "\n",
    "W,B = torch.meshgrid(weight_combo,bias_combo,indexing='ij')\n",
    "W_F = W.flatten()\n",
    "B_F = B.flatten()\n",
    "\n",
    "L_F = []\n",
    "\n",
    "for w,b in zip(W_F,B_F):\n",
    "  l = torch.mean((ground_truth-( w * feature_1 + b))**2)\n",
    "  L_F.append(l)\n",
    "\n",
    "L_F = torch.tensor(L_F)\n",
    "L = L_F.reshape(W.shape)\n",
    "\n",
    "\n",
    "L_F = L_F.numpy()\n",
    "min_index = np.argmin(L_F)\n",
    "a,b = np.unravel_index(min_index,W.shape)\n"
   ]
  },
  {
   "cell_type": "code",
   "execution_count": 4,
   "metadata": {},
   "outputs": [
    {
     "data": {
      "text/plain": [
       "tensor([-10.0000,  -9.0476,  -8.0952,  -7.1429,  -6.1905,  -5.2381,  -4.2857,\n",
       "         -3.3333,  -2.3810,  -1.4286,  -0.4762,   0.4762,   1.4286,   2.3810,\n",
       "          3.3333,   4.2857,   5.2381,   6.1905,   7.1429,   8.0952,   9.0476,\n",
       "         10.0000])"
      ]
     },
     "execution_count": 4,
     "metadata": {},
     "output_type": "execute_result"
    }
   ],
   "source": [
    "feature_1"
   ]
  },
  {
   "cell_type": "code",
   "execution_count": 5,
   "metadata": {},
   "outputs": [],
   "source": [
    "X = (feature_1 -torch.mean(feature_1))/ torch.std(feature_1)"
   ]
  },
  {
   "cell_type": "code",
   "execution_count": 6,
   "metadata": {},
   "outputs": [
    {
     "data": {
      "text/plain": [
       "tensor([-1.6170, -1.4630, -1.3090, -1.1550, -1.0010, -0.8470, -0.6930, -0.5390,\n",
       "        -0.3850, -0.2310, -0.0770,  0.0770,  0.2310,  0.3850,  0.5390,  0.6930,\n",
       "         0.8470,  1.0010,  1.1550,  1.3090,  1.4630,  1.6170])"
      ]
     },
     "execution_count": 6,
     "metadata": {},
     "output_type": "execute_result"
    }
   ],
   "source": [
    "X"
   ]
  },
  {
   "cell_type": "code",
   "execution_count": 7,
   "metadata": {},
   "outputs": [
    {
     "data": {
      "text/plain": [
       "tensor(-1.0837e-08)"
      ]
     },
     "execution_count": 7,
     "metadata": {},
     "output_type": "execute_result"
    }
   ],
   "source": [
    "torch.mean(X)"
   ]
  },
  {
   "cell_type": "code",
   "execution_count": 8,
   "metadata": {},
   "outputs": [
    {
     "data": {
      "text/plain": [
       "tensor(1.)"
      ]
     },
     "execution_count": 8,
     "metadata": {},
     "output_type": "execute_result"
    }
   ],
   "source": [
    "torch.std(X)"
   ]
  },
  {
   "cell_type": "code",
   "execution_count": null,
   "metadata": {},
   "outputs": [],
   "source": []
  }
 ],
 "metadata": {
  "kernelspec": {
   "display_name": "sparta",
   "language": "python",
   "name": "python3"
  },
  "language_info": {
   "codemirror_mode": {
    "name": "ipython",
    "version": 3
   },
   "file_extension": ".py",
   "mimetype": "text/x-python",
   "name": "python",
   "nbconvert_exporter": "python",
   "pygments_lexer": "ipython3",
   "version": "3.10.11"
  }
 },
 "nbformat": 4,
 "nbformat_minor": 2
}
